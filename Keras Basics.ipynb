{
 "cells": [
  {
   "cell_type": "code",
   "execution_count": 1,
   "metadata": {},
   "outputs": [],
   "source": [
    "import numpy as np\n",
    "from numpy import genfromtxt"
   ]
  },
  {
   "cell_type": "code",
   "execution_count": 2,
   "metadata": {},
   "outputs": [],
   "source": [
    "data = genfromtxt('C:/Users/Khaled/Documents/CV Course/1/Computer-Vision-with-Python/DATA/bank_note_data.txt',delimiter=',') \n",
    "# generate text from csv file"
   ]
  },
  {
   "cell_type": "code",
   "execution_count": 3,
   "metadata": {},
   "outputs": [
    {
     "data": {
      "text/plain": [
       "array([[  3.6216 ,   8.6661 ,  -2.8073 ,  -0.44699,   0.     ],\n",
       "       [  4.5459 ,   8.1674 ,  -2.4586 ,  -1.4621 ,   0.     ],\n",
       "       [  3.866  ,  -2.6383 ,   1.9242 ,   0.10645,   0.     ],\n",
       "       ...,\n",
       "       [ -3.7503 , -13.4586 ,  17.5932 ,  -2.7771 ,   1.     ],\n",
       "       [ -3.5637 ,  -8.3827 ,  12.393  ,  -1.2823 ,   1.     ],\n",
       "       [ -2.5419 ,  -0.65804,   2.6842 ,   1.1952 ,   1.     ]])"
      ]
     },
     "execution_count": 3,
     "metadata": {},
     "output_type": "execute_result"
    }
   ],
   "source": [
    "data"
   ]
  },
  {
   "cell_type": "code",
   "execution_count": 4,
   "metadata": {},
   "outputs": [],
   "source": [
    "labels = data[:,4]"
   ]
  },
  {
   "cell_type": "code",
   "execution_count": 5,
   "metadata": {},
   "outputs": [
    {
     "data": {
      "text/plain": [
       "array([0., 0., 0., ..., 1., 1., 1.])"
      ]
     },
     "execution_count": 5,
     "metadata": {},
     "output_type": "execute_result"
    }
   ],
   "source": [
    "labels"
   ]
  },
  {
   "cell_type": "code",
   "execution_count": 6,
   "metadata": {},
   "outputs": [],
   "source": [
    "features = data[:,0:4]"
   ]
  },
  {
   "cell_type": "code",
   "execution_count": 7,
   "metadata": {},
   "outputs": [
    {
     "data": {
      "text/plain": [
       "array([[  3.6216 ,   8.6661 ,  -2.8073 ,  -0.44699],\n",
       "       [  4.5459 ,   8.1674 ,  -2.4586 ,  -1.4621 ],\n",
       "       [  3.866  ,  -2.6383 ,   1.9242 ,   0.10645],\n",
       "       ...,\n",
       "       [ -3.7503 , -13.4586 ,  17.5932 ,  -2.7771 ],\n",
       "       [ -3.5637 ,  -8.3827 ,  12.393  ,  -1.2823 ],\n",
       "       [ -2.5419 ,  -0.65804,   2.6842 ,   1.1952 ]])"
      ]
     },
     "execution_count": 7,
     "metadata": {},
     "output_type": "execute_result"
    }
   ],
   "source": [
    "features"
   ]
  },
  {
   "cell_type": "code",
   "execution_count": 8,
   "metadata": {},
   "outputs": [],
   "source": [
    "X = features\n",
    "y = labels"
   ]
  },
  {
   "cell_type": "code",
   "execution_count": 9,
   "metadata": {},
   "outputs": [],
   "source": [
    "from sklearn.model_selection import train_test_split"
   ]
  },
  {
   "cell_type": "code",
   "execution_count": 10,
   "metadata": {},
   "outputs": [],
   "source": [
    "X_train, X_test, y_train, y_test = train_test_split(X, y, test_size=0.33, random_state=42)\n",
    "# split train and test data"
   ]
  },
  {
   "cell_type": "code",
   "execution_count": 12,
   "metadata": {},
   "outputs": [
    {
     "data": {
      "text/plain": [
       "919"
      ]
     },
     "execution_count": 12,
     "metadata": {},
     "output_type": "execute_result"
    }
   ],
   "source": [
    "len(X_train)"
   ]
  },
  {
   "cell_type": "code",
   "execution_count": 13,
   "metadata": {},
   "outputs": [
    {
     "data": {
      "text/plain": [
       "1372"
      ]
     },
     "execution_count": 13,
     "metadata": {},
     "output_type": "execute_result"
    }
   ],
   "source": [
    "len(X)"
   ]
  },
  {
   "cell_type": "code",
   "execution_count": 14,
   "metadata": {},
   "outputs": [
    {
     "data": {
      "text/plain": [
       "453"
      ]
     },
     "execution_count": 14,
     "metadata": {},
     "output_type": "execute_result"
    }
   ],
   "source": [
    "len(X_test)"
   ]
  },
  {
   "cell_type": "code",
   "execution_count": 16,
   "metadata": {},
   "outputs": [],
   "source": [
    "from sklearn.preprocessing import MinMaxScaler"
   ]
  },
  {
   "cell_type": "code",
   "execution_count": 17,
   "metadata": {},
   "outputs": [],
   "source": [
    "scalar_object = MinMaxScaler()\n",
    "# create max min scaler object"
   ]
  },
  {
   "cell_type": "code",
   "execution_count": 18,
   "metadata": {},
   "outputs": [
    {
     "data": {
      "text/plain": [
       "MinMaxScaler(copy=True, feature_range=(0, 1))"
      ]
     },
     "execution_count": 18,
     "metadata": {},
     "output_type": "execute_result"
    }
   ],
   "source": [
    "scalar_object.fit(X_train)\n",
    "# fit data on the train dataset"
   ]
  },
  {
   "cell_type": "code",
   "execution_count": 19,
   "metadata": {},
   "outputs": [],
   "source": [
    "scaled_X_train = scalar_object.transform(X_train)\n",
    "# scale data on the train dataset"
   ]
  },
  {
   "cell_type": "code",
   "execution_count": 20,
   "metadata": {},
   "outputs": [],
   "source": [
    "scaled_X_test = scalar_object.transform(X_test)"
   ]
  },
  {
   "cell_type": "code",
   "execution_count": 21,
   "metadata": {},
   "outputs": [
    {
     "data": {
      "text/plain": [
       "1.0000000000000002"
      ]
     },
     "execution_count": 21,
     "metadata": {},
     "output_type": "execute_result"
    }
   ],
   "source": [
    "scaled_X_train.max()"
   ]
  },
  {
   "cell_type": "code",
   "execution_count": 22,
   "metadata": {},
   "outputs": [],
   "source": [
    "from keras.models import Sequential\n",
    "from keras.layers import Dense"
   ]
  },
  {
   "cell_type": "code",
   "execution_count": 38,
   "metadata": {},
   "outputs": [],
   "source": [
    "model = Sequential()\n",
    "# create a model\n",
    "\n",
    "model.add(Dense(4,input_dim=4,activation='relu'))\n",
    "# add input neural network layer\n",
    "\n",
    "model.add(Dense(10,activation='relu'))\n",
    "# add intermediate neural layer\n",
    "\n",
    "model.add(Dense(1,activation='sigmoid'))\n",
    "# add output neural network layer"
   ]
  },
  {
   "cell_type": "code",
   "execution_count": 39,
   "metadata": {},
   "outputs": [],
   "source": [
    "model.compile(loss='binary_crossentropy',optimizer='adam',metrics=['accuracy'])\n",
    "# compile the model"
   ]
  },
  {
   "cell_type": "code",
   "execution_count": 40,
   "metadata": {},
   "outputs": [
    {
     "name": "stdout",
     "output_type": "stream",
     "text": [
      "Epoch 1/50\n",
      " - 1s - loss: 0.6875 - acc: 0.5898\n",
      "Epoch 2/50\n",
      " - 0s - loss: 0.6841 - acc: 0.6181\n",
      "Epoch 3/50\n",
      " - 0s - loss: 0.6794 - acc: 0.6289\n",
      "Epoch 4/50\n",
      " - 0s - loss: 0.6738 - acc: 0.6268\n",
      "Epoch 5/50\n",
      " - 0s - loss: 0.6672 - acc: 0.6333\n",
      "Epoch 6/50\n",
      " - 0s - loss: 0.6511 - acc: 0.6855\n",
      "Epoch 7/50\n",
      " - 0s - loss: 0.6220 - acc: 0.7182\n",
      "Epoch 8/50\n",
      " - 0s - loss: 0.5957 - acc: 0.7280\n",
      "Epoch 9/50\n",
      " - 0s - loss: 0.5737 - acc: 0.7323\n",
      "Epoch 10/50\n",
      " - 0s - loss: 0.5553 - acc: 0.7454\n",
      "Epoch 11/50\n",
      " - 0s - loss: 0.5367 - acc: 0.7552\n",
      "Epoch 12/50\n",
      " - 0s - loss: 0.5186 - acc: 0.7671\n",
      "Epoch 13/50\n",
      " - 0s - loss: 0.5021 - acc: 0.7813\n",
      "Epoch 14/50\n",
      " - 0s - loss: 0.4871 - acc: 0.7933\n",
      "Epoch 15/50\n",
      " - 0s - loss: 0.4722 - acc: 0.8020\n",
      "Epoch 16/50\n",
      " - 0s - loss: 0.4577 - acc: 0.8063\n",
      "Epoch 17/50\n",
      " - 0s - loss: 0.4428 - acc: 0.8215\n",
      "Epoch 18/50\n",
      " - 0s - loss: 0.4309 - acc: 0.8324\n",
      "Epoch 19/50\n",
      " - 0s - loss: 0.4168 - acc: 0.8390\n",
      "Epoch 20/50\n",
      " - 0s - loss: 0.4026 - acc: 0.8509\n",
      "Epoch 21/50\n",
      " - 0s - loss: 0.3896 - acc: 0.8640\n",
      "Epoch 22/50\n",
      " - 0s - loss: 0.3765 - acc: 0.8760\n",
      "Epoch 23/50\n",
      " - 0s - loss: 0.3650 - acc: 0.8879\n",
      "Epoch 24/50\n",
      " - 0s - loss: 0.3528 - acc: 0.8890\n",
      "Epoch 25/50\n",
      " - 0s - loss: 0.3409 - acc: 0.8955\n",
      "Epoch 26/50\n",
      " - 0s - loss: 0.3300 - acc: 0.9010\n",
      "Epoch 27/50\n",
      " - 0s - loss: 0.3202 - acc: 0.8955\n",
      "Epoch 28/50\n",
      " - 0s - loss: 0.3113 - acc: 0.9053\n",
      "Epoch 29/50\n",
      " - 0s - loss: 0.3010 - acc: 0.9010\n",
      "Epoch 30/50\n",
      " - 0s - loss: 0.2916 - acc: 0.9042\n",
      "Epoch 31/50\n",
      " - 0s - loss: 0.2832 - acc: 0.9064\n",
      "Epoch 32/50\n",
      " - 0s - loss: 0.2749 - acc: 0.9097\n",
      "Epoch 33/50\n",
      " - 0s - loss: 0.2658 - acc: 0.9140\n",
      "Epoch 34/50\n",
      " - 0s - loss: 0.2579 - acc: 0.9195\n",
      "Epoch 35/50\n",
      " - 0s - loss: 0.2498 - acc: 0.9282\n",
      "Epoch 36/50\n",
      " - 0s - loss: 0.2425 - acc: 0.9293\n",
      "Epoch 37/50\n",
      " - 0s - loss: 0.2354 - acc: 0.9336\n",
      "Epoch 38/50\n",
      " - 0s - loss: 0.2278 - acc: 0.9347\n",
      "Epoch 39/50\n",
      " - 0s - loss: 0.2221 - acc: 0.9358\n",
      "Epoch 40/50\n",
      " - 0s - loss: 0.2150 - acc: 0.9412\n",
      "Epoch 41/50\n",
      " - 0s - loss: 0.2106 - acc: 0.9423\n",
      "Epoch 42/50\n",
      " - 0s - loss: 0.2035 - acc: 0.9434\n",
      "Epoch 43/50\n",
      " - 0s - loss: 0.1983 - acc: 0.9445\n",
      "Epoch 44/50\n",
      " - 0s - loss: 0.1933 - acc: 0.9467\n",
      "Epoch 45/50\n",
      " - 0s - loss: 0.1888 - acc: 0.9423\n",
      "Epoch 46/50\n",
      " - 0s - loss: 0.1832 - acc: 0.9489\n",
      "Epoch 47/50\n",
      " - 0s - loss: 0.1783 - acc: 0.9467\n",
      "Epoch 48/50\n",
      " - 0s - loss: 0.1737 - acc: 0.9434\n",
      "Epoch 49/50\n",
      " - 0s - loss: 0.1694 - acc: 0.9445\n",
      "Epoch 50/50\n",
      " - 0s - loss: 0.1659 - acc: 0.9445\n"
     ]
    },
    {
     "data": {
      "text/plain": [
       "<keras.callbacks.History at 0x1b239f42780>"
      ]
     },
     "execution_count": 40,
     "metadata": {},
     "output_type": "execute_result"
    }
   ],
   "source": [
    "model.fit(scaled_X_train,y_train,epochs=50,verbose=2)\n",
    "# train the dataset"
   ]
  },
  {
   "cell_type": "code",
   "execution_count": 27,
   "metadata": {},
   "outputs": [],
   "source": [
    "# model.predict_classes(scaled_X_test)\n",
    "# use the testing data to test the trained model"
   ]
  },
  {
   "cell_type": "code",
   "execution_count": 28,
   "metadata": {},
   "outputs": [
    {
     "data": {
      "text/plain": [
       "['loss', 'acc']"
      ]
     },
     "execution_count": 28,
     "metadata": {},
     "output_type": "execute_result"
    }
   ],
   "source": [
    "model.metrics_names\n",
    "# get the metrics"
   ]
  },
  {
   "cell_type": "code",
   "execution_count": 29,
   "metadata": {},
   "outputs": [],
   "source": [
    "from sklearn.metrics import confusion_matrix,classification_report"
   ]
  },
  {
   "cell_type": "code",
   "execution_count": 31,
   "metadata": {},
   "outputs": [],
   "source": [
    "predictions = model.predict_classes(scaled_X_test)\n",
    "# use the testing data to test the trained model"
   ]
  },
  {
   "cell_type": "code",
   "execution_count": 41,
   "metadata": {},
   "outputs": [
    {
     "data": {
      "text/plain": [
       "array([[250,   7],\n",
       "       [ 14, 182]], dtype=int64)"
      ]
     },
     "execution_count": 41,
     "metadata": {},
     "output_type": "execute_result"
    }
   ],
   "source": [
    "confusion_matrix(y_test,predictions)\n",
    "# display the confusion matrix"
   ]
  },
  {
   "cell_type": "code",
   "execution_count": 42,
   "metadata": {},
   "outputs": [
    {
     "name": "stdout",
     "output_type": "stream",
     "text": [
      "             precision    recall  f1-score   support\n",
      "\n",
      "        0.0       0.95      0.97      0.96       257\n",
      "        1.0       0.96      0.93      0.95       196\n",
      "\n",
      "avg / total       0.95      0.95      0.95       453\n",
      "\n"
     ]
    }
   ],
   "source": [
    "print(classification_report(y_test,predictions))\n",
    "# display the classification report"
   ]
  },
  {
   "cell_type": "code",
   "execution_count": 43,
   "metadata": {},
   "outputs": [],
   "source": [
    "model.save('money.h5')\n",
    "# save the model"
   ]
  },
  {
   "cell_type": "code",
   "execution_count": 44,
   "metadata": {},
   "outputs": [],
   "source": [
    "from keras.models import load_model"
   ]
  },
  {
   "cell_type": "code",
   "execution_count": 45,
   "metadata": {},
   "outputs": [],
   "source": [
    "newmodel = load_model('money.h5')\n",
    "# import the model"
   ]
  },
  {
   "cell_type": "code",
   "execution_count": 47,
   "metadata": {},
   "outputs": [],
   "source": [
    "# newmodel.predict_classes(scaled_X_test)"
   ]
  },
  {
   "cell_type": "code",
   "execution_count": null,
   "metadata": {},
   "outputs": [],
   "source": []
  }
 ],
 "metadata": {
  "kernelspec": {
   "display_name": "Python 3 (ipykernel)",
   "language": "python",
   "name": "python3"
  },
  "language_info": {
   "codemirror_mode": {
    "name": "ipython",
    "version": 3
   },
   "file_extension": ".py",
   "mimetype": "text/x-python",
   "name": "python",
   "nbconvert_exporter": "python",
   "pygments_lexer": "ipython3",
   "version": "3.9.13"
  }
 },
 "nbformat": 4,
 "nbformat_minor": 4
}
