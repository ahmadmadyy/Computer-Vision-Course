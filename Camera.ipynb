{
 "cells": [
  {
   "cell_type": "code",
   "execution_count": 7,
   "metadata": {},
   "outputs": [],
   "source": [
    "import cv2\n",
    "\n",
    "# capture webcam\n",
    "cap = cv2.VideoCapture(0)\n",
    "\n",
    "# get the width and height of the frame\n",
    "width = int(cap.get(cv2.CAP_PROP_FRAME_WIDTH))\n",
    "height = int(cap.get(cv2.CAP_PROP_FRAME_HEIGHT))\n",
    "\n",
    "# write to a video file capturing image by image and adding\n",
    "# it to the video file, takes the name of the target file, \n",
    "# Windows video format DIVX as a string, the frames required per\n",
    "# second, and the width and height of the image\n",
    "writer = cv2.VideoWriter('mysupervideo.mp4',\n",
    "                         cv2.VideoWriter_fourcc(*'DIVX'),\n",
    "                         20,(width,height))\n",
    "\n",
    "while True:\n",
    "    #display video as a series of images or frames \n",
    "    \n",
    "    # read from the camera\n",
    "    ret,frame = cap.read()\n",
    "    \n",
    "    # convert the image to grayscale\n",
    "    #gray = cv2.cvtColor(frame,cv2.COLOR_BGR2GRAY)\n",
    "    \n",
    "    writer.write(frame)\n",
    "    cv2.imshow('frame',frame)\n",
    "    \n",
    "# wait for the q button to be pressed then exit\n",
    "    if cv2.waitKey(1) & 0xFF == ord('q'):\n",
    "        break\n",
    "        \n",
    "cap.release()    \n",
    "writer.release()\n",
    "cv2.destroyAllWindows()"
   ]
  },
  {
   "cell_type": "code",
   "execution_count": 3,
   "metadata": {},
   "outputs": [
    {
     "data": {
      "text/plain": [
       "'C:\\\\Users\\\\Khaled\\\\Documents\\\\CV Course\\\\1'"
      ]
     },
     "execution_count": 3,
     "metadata": {},
     "output_type": "execute_result"
    }
   ],
   "source": [
    "pwd"
   ]
  },
  {
   "cell_type": "code",
   "execution_count": null,
   "metadata": {},
   "outputs": [],
   "source": []
  }
 ],
 "metadata": {
  "kernelspec": {
   "display_name": "Python 3",
   "language": "python",
   "name": "python3"
  },
  "language_info": {
   "codemirror_mode": {
    "name": "ipython",
    "version": 3
   },
   "file_extension": ".py",
   "mimetype": "text/x-python",
   "name": "python",
   "nbconvert_exporter": "python",
   "pygments_lexer": "ipython3",
   "version": "3.6.6"
  }
 },
 "nbformat": 4,
 "nbformat_minor": 2
}
