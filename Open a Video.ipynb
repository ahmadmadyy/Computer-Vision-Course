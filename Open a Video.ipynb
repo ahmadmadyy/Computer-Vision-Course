{
 "cells": [
  {
   "cell_type": "code",
   "execution_count": 3,
   "metadata": {},
   "outputs": [],
   "source": [
    "import cv2\n",
    "import time\n",
    "\n",
    "# read a video file from a specific file\n",
    "cap = cv2.VideoCapture('mysupervideo.mp4')\n",
    "\n",
    "# check if a video is opened sucessfully\n",
    "if cap.isOpened() == False:\n",
    "    print('Error, File Not Found!')\n",
    "    \n",
    "while cap.isOpened():\n",
    "    \n",
    "    ret,frame = cap.read()\n",
    "\n",
    "# check if the return part of the method is true, aka reading\n",
    "    if ret == True:\n",
    "        \n",
    "# delay for the video to be played in the same speed as a frames\n",
    "# it was recorded in\n",
    "        time.sleep(1/20)\n",
    "        cv2.imshow('frame',frame)\n",
    " \n",
    "# wait for the q button to be pressed then exit\n",
    "        if cv2.waitKey(10) & 0xFF == ord('q'):\n",
    "            break\n",
    "            \n",
    "    else:\n",
    "        break\n",
    "\n",
    "cap.release()\n",
    "cv2.destroyAllWindows()"
   ]
  },
  {
   "cell_type": "code",
   "execution_count": null,
   "metadata": {},
   "outputs": [],
   "source": []
  }
 ],
 "metadata": {
  "kernelspec": {
   "display_name": "Python 3",
   "language": "python",
   "name": "python3"
  },
  "language_info": {
   "codemirror_mode": {
    "name": "ipython",
    "version": 3
   },
   "file_extension": ".py",
   "mimetype": "text/x-python",
   "name": "python",
   "nbconvert_exporter": "python",
   "pygments_lexer": "ipython3",
   "version": "3.6.6"
  }
 },
 "nbformat": 4,
 "nbformat_minor": 2
}
